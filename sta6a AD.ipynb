{
 "cells": [
  {
   "cell_type": "markdown",
   "id": "addf9387-11f3-4126-9fbc-0afbac920936",
   "metadata": {
    "tags": []
   },
   "source": [
    "## Step 1: Import packages"
   ]
  },
  {
   "cell_type": "code",
   "execution_count": 1,
   "id": "4a864848-dac0-4078-ab99-0ae960e25ca8",
   "metadata": {},
   "outputs": [],
   "source": [
    "import pandas as pd\n",
    "import re"
   ]
  },
  {
   "cell_type": "markdown",
   "id": "bd7a8c07-5d4c-4f94-80ce-6d75c6758d41",
   "metadata": {},
   "source": [
    "## Step 2: Import dataset and perform initial preprocessing steps"
   ]
  },
  {
   "cell_type": "code",
   "execution_count": 2,
   "id": "044ba354-3260-4055-8a5d-36d94bdfb010",
   "metadata": {
    "tags": []
   },
   "outputs": [],
   "source": [
    "# Read in dataset from Excel\n",
    "df = pd.read_excel('[Insert Your Directory Here]/[Insert Your File Name Here].xlsx') # Detroit\n",
    "\n",
    "# Convert ReportText to string and remove carriage returns and extra spacing between words\n",
    "df['ReportText'] = df['ReportText'].astype('str')\n",
    "df['ReportText'] = df['ReportText'].str.replace(r'\\s+', ' ', regex=True).str.replace(r'\\n+', ' ', regex=True)\n",
    "\n",
    "# Convert PFT date column to date data type\n",
    "df['pft_date'] = df['pft_date'].dt.date"
   ]
  },
  {
   "cell_type": "markdown",
   "id": "378cbc7b-ebaf-4d99-947b-acf6e80b1779",
   "metadata": {
    "tags": []
   },
   "source": [
    "## Step 3: Create snippet extraction function after identifying snippet in notes by checking a random sample of 100 notes with:\n",
    "\n",
    "```\n",
    "n = 1\n",
    "for index,row in df.sample(frac=1)[:100].iterrows():\n",
    "    print(f\"Row Number: {n}\")\n",
    "    print(f\"Note: {row['ReportText']}\")\n",
    "    print('-'*100)\n",
    "    n+=1\n",
    "```"
   ]
  },
  {
   "cell_type": "code",
   "execution_count": 4,
   "id": "307e7c68-f71f-48d1-b52e-bc874d1915f4",
   "metadata": {
    "tags": []
   },
   "outputs": [],
   "source": [
    "# Function to create snippet based on template start phrase\n",
    "def extract_fev1_context(text):\n",
    "    pattern = re.compile(r'.Pre-Bronch Post-Bronch Actual.{0,500}', re.IGNORECASE)\n",
    "    matches = pattern.findall(text)\n",
    "    return ' '.join(matches)"
   ]
  },
  {
   "cell_type": "markdown",
   "id": "ccc78e4d-1e3a-4192-84f7-c9d33e14a60d",
   "metadata": {},
   "source": [
    "## Step 4: Run the `ReportText` column through the function to generate a new `Snippet` column containing each note's snippet"
   ]
  },
  {
   "cell_type": "code",
   "execution_count": 5,
   "id": "340c3a0c-3cc1-4fe1-8798-9ef3d5e6be58",
   "metadata": {
    "tags": []
   },
   "outputs": [],
   "source": [
    "df = df.copy(deep = True)\n",
    "df['Snippet'] = df['ReportText'].apply(extract_fev1_context)"
   ]
  },
  {
   "cell_type": "markdown",
   "id": "5d4310e1-6851-43b4-9764-21f368c6cecc",
   "metadata": {},
   "source": [
    "## Step 5: Initialize new dataframe containing only rows that have a snippet"
   ]
  },
  {
   "cell_type": "code",
   "execution_count": 7,
   "id": "111476c5-5674-4e68-b151-4df70e517329",
   "metadata": {
    "tags": []
   },
   "outputs": [],
   "source": [
    "notes_with_fev = df[df['Snippet'] != ''].reset_index(drop=True)"
   ]
  },
  {
   "cell_type": "markdown",
   "id": "357381b1-b7c0-4539-97f4-05485dafb60e",
   "metadata": {},
   "source": [
    "##### You can validate snippets with the following code:\n",
    "```\n",
    "n = 1\n",
    "for index,row in notes_with_fev.sample(frac=1)[:100].iterrows():\n",
    "    print(f\"Row Number: {n}\")\n",
    "    print(f\"Note: {row['ReportText']}\")\n",
    "    print(row['Snippet'])\n",
    "    print('-'*100)\n",
    "    n+=1\n",
    "```"
   ]
  },
  {
   "cell_type": "markdown",
   "id": "075e90da-2482-40be-8d89-a41026f58887",
   "metadata": {},
   "source": [
    "## Step 6: Initialize the PFT Classification Function"
   ]
  },
  {
   "cell_type": "code",
   "execution_count": 10,
   "id": "4275fb24-c6b0-4d09-a7c6-c184ac6ff1a2",
   "metadata": {
    "tags": []
   },
   "outputs": [],
   "source": [
    "def classify_fev1(row):\n",
    "    # Initialize variables\n",
    "    fev1_abs_pre = []\n",
    "    fev1_abs_post = []\n",
    "    fev1_perc_pred_pre = []\n",
    "    fev1_perc_pred_post = []\n",
    "    fev1_fvc_pre = []\n",
    "    fev1_fvc_post = []\n",
    "    \n",
    "    text = row['Snippet']\n",
    "    \n",
    "    # FEV1 abs pre BD absolute value\n",
    "    fev1_abs_pre_pattern = re.compile(r'Pre-Bronch.*?FEV1.*?(\\d*\\.\\d+)', re.IGNORECASE)\n",
    "    fev1_abs_pre_pattern_results = fev1_abs_pre_pattern.findall(text)\n",
    "    \n",
    "    if fev1_abs_pre_pattern_results:\n",
    "        fev1_abs_pre.append(fev1_abs_pre_pattern_results[0])\n",
    "        \n",
    "    # FEV1 perc pred pre BD absolute value\n",
    "    fev1_perc_pred_pre_pattern = re.compile(r'Pre-Bronch.*?FEV1.*?\\d*\\.\\d+\\s(\\d{2,3})', re.IGNORECASE)\n",
    "    fev1_perc_pred_pre_pattern_results = fev1_perc_pred_pre_pattern.findall(text)\n",
    "    \n",
    "    if fev1_perc_pred_pre_pattern_results:\n",
    "        fev1_perc_pred_pre.append(fev1_perc_pred_pre_pattern_results[0])\n",
    "        \n",
    "    # FEV1 abs post BD absolute value\n",
    "    fev1_abs_post_pattern = re.compile(r'Pre-Bronch.*?FEV1.*?\\d*\\.\\d+\\s\\d{2,3}\\s(\\d*\\.\\d+)', re.IGNORECASE)\n",
    "    fev1_abs_post_pattern_results = fev1_abs_post_pattern.findall(text)\n",
    "    \n",
    "    if fev1_abs_post_pattern_results:\n",
    "        fev1_abs_post.append(fev1_abs_post_pattern_results[0])\n",
    "        \n",
    "    # FEV1 perc pred post BD absolute value\n",
    "    fev1_perc_pred_post_pattern = re.compile(r'Pre-Bronch.*?FEV1.*?\\d*\\.\\d+\\s\\d{2,3}\\s\\d*\\.\\d+\\s(\\d{2,3})', re.IGNORECASE)\n",
    "    fev1_perc_pred_post_pattern_results = fev1_perc_pred_post_pattern.findall(text)\n",
    "    \n",
    "    if fev1_perc_pred_post_pattern_results:\n",
    "        fev1_perc_pred_post.append(fev1_perc_pred_post_pattern_results[0])\n",
    "        \n",
    "    # FEV1/FVC pre BD absolute value\n",
    "    fev1_fvc_pre_pattern = re.compile(r'Pre-Bronch.*?FEV1/FVC.*?(\\d{2,3})', re.IGNORECASE)\n",
    "    fev1_fvc_pre_pattern_results = fev1_fvc_pre_pattern.findall(text)\n",
    "    \n",
    "    if fev1_fvc_pre_pattern_results:\n",
    "        fev1_fvc_pre.append(fev1_fvc_pre_pattern_results[0])\n",
    "        \n",
    "    # FEV1/FVC post BD absolute value\n",
    "    fev1_fvc_post_pattern = re.compile(r'Pre-Bronch.*?FEV1/FVC.*?\\d{2,3}\\s(\\d{2,3})', re.IGNORECASE)\n",
    "    fev1_fvc_post_pattern_results = fev1_fvc_post_pattern.findall(text)\n",
    "    \n",
    "    if fev1_fvc_post_pattern_results:\n",
    "        fev1_fvc_post.append(fev1_fvc_post_pattern_results[0])\n",
    "        \n",
    "    return pd.Series({'FEV1_Abs_Pre': fev1_abs_pre if fev1_abs_pre else None,\n",
    "                      'FEV1_Abs_Post': fev1_abs_post if fev1_abs_post else None,\n",
    "                      'FEV1_Perc_Pred_Pre': fev1_perc_pred_pre if fev1_perc_pred_pre else None,\n",
    "                      'FEV1_Perc_Pred_Post': fev1_perc_pred_post if fev1_perc_pred_post else None,\n",
    "                      'FEV1_FVC_Pre': fev1_fvc_pre if fev1_fvc_pre else None,\n",
    "                      'FEV1_FVC_Post': fev1_fvc_post if fev1_fvc_post else None\n",
    "                     })\n",
    "    \n"
   ]
  },
  {
   "cell_type": "markdown",
   "id": "3f5dc7f4-4e19-489c-8140-355df2c3e5d4",
   "metadata": {},
   "source": [
    "## Step 6: Run dataframe through the PFT extraction function"
   ]
  },
  {
   "cell_type": "code",
   "execution_count": 11,
   "id": "fc83a61c-68ae-4e5c-aded-a884382ce766",
   "metadata": {
    "tags": []
   },
   "outputs": [],
   "source": [
    "results = notes_with_fev.join(notes_with_fev.apply(classify_fev1, axis = 1))"
   ]
  },
  {
   "cell_type": "markdown",
   "id": "2df6473e-01c9-42c6-a902-011c81290003",
   "metadata": {},
   "source": [
    "## Step 7: Extract values from FEV1 % predicted and FEV1:FVC pre-BD"
   ]
  },
  {
   "cell_type": "code",
   "execution_count": 13,
   "id": "11641ba7-02e1-429a-93ef-4772897376a1",
   "metadata": {
    "tags": []
   },
   "outputs": [],
   "source": [
    "def extract_value(nested_list):\n",
    "    if nested_list is not None:\n",
    "        return int(nested_list[0])\n",
    "    \n",
    "# Create new variables 'FEV1_Perc_Pred' and 'fev1_fvc' to hold extracted quantitative values\n",
    "results['FEV1_Perc_Pred'] = results['FEV1_Perc_Pred_Pre'].apply(extract_value)\n",
    "results['fev1_fvc'] = results['FEV1_FVC_Pre'].apply(extract_value)"
   ]
  },
  {
   "cell_type": "markdown",
   "id": "fff80968-57a5-40c0-b721-ebe85eec812c",
   "metadata": {},
   "source": [
    "## Step 8: Create mapping functions to map quantitative values to the standard clinical definitions of obstruction and severity of obstruction"
   ]
  },
  {
   "cell_type": "code",
   "execution_count": 14,
   "id": "e1f408d3-3483-4ba5-b7a0-7ecf9105623a",
   "metadata": {
    "tags": []
   },
   "outputs": [],
   "source": [
    "def fev1_severity(value):\n",
    "    if value >= 80:\n",
    "        return \"Normal\"\n",
    "    if 70 <= value <= 79:\n",
    "        return \"Mild\"\n",
    "    if 60 <= value <= 69:\n",
    "        return \"Moderate\"\n",
    "    if 50 <= value <= 59:\n",
    "        return \"Moderately Severe\"\n",
    "    if 35 <= value < 50:\n",
    "        return \"Severe\"\n",
    "    if value < 35:\n",
    "        return \"Very Severe\"\n",
    "    \n",
    "def obstruction(value):\n",
    "    if value >= 70:\n",
    "        return \"Normal\"\n",
    "    if value < 70:\n",
    "        return \"Reduced\"\n",
    "    \n",
    "# Create new variables 'FEV1_Severity' and 'Obstruction' by running the FEV1 % predicted and FEV1:FVC variables through the mapping functions   \n",
    "results['FEV1_Severity'] = results['FEV1_Perc_Pred'].map(fev1_severity)\n",
    "results['Obstruction'] = results['fev1_fvc'].map(obstruction)"
   ]
  },
  {
   "cell_type": "markdown",
   "id": "fc9cb412-0e6e-4f12-b7d4-6e945ee2769d",
   "metadata": {},
   "source": [
    "## Step 9: Drop duplicate rows or rows missing extracted PFT data"
   ]
  },
  {
   "cell_type": "code",
   "execution_count": 1,
   "id": "b9e36caa-1752-475c-b87a-eaec33e000c4",
   "metadata": {
    "tags": []
   },
   "outputs": [],
   "source": [
    "# List columns to define on which variables you would like to drop duplicates\n",
    "list_cols = ['Obstruction', 'FEV1_Severity', 'FEV1_Abs_Pre', 'FEV1_Perc_Pred_Pre', 'FEV1_FVC_Pre', 'FEV1_Abs_Post', 'FEV1_Perc_Pred_Post', 'FEV1_FVC_Post']\n",
    "\n",
    "# Drop rows that have no extracted PFT values\n",
    "results = results.dropna(subset = list_cols, how = 'all')\n",
    "\n",
    "# Convert columns in list_cols to string\n",
    "for col in list_cols:\n",
    "    results[col] = results[col].apply(lambda x: str(x))\n",
    "    \n",
    "# Drop duplicates of PFT results based on columns of interest + PatientID and PFT date\n",
    "results = results.drop_duplicates(subset = ['PatientICN', 'pft_date', 'Obstruction', 'FEV1_Severity', 'FEV1_Abs_Pre', 'FEV1_Perc_Pred_Pre', 'FEV1_Abs_Post', 'FEV1_Perc_Pred_Post', 'FEV1_FVC_Pre', 'FEV1_FVC_Post'])\n",
    "\n",
    "# Replace cells with 'None' values to empty string for ease of readability in the output Excel file\n",
    "results.replace('None','',inplace = True)"
   ]
  },
  {
   "cell_type": "markdown",
   "id": "eb41624e-a864-4280-861d-d0cc351d6e3d",
   "metadata": {},
   "source": [
    "## Step 10: Merge rows from same PFT with multiple notes containing values for different variables"
   ]
  },
  {
   "cell_type": "code",
   "execution_count": 16,
   "id": "4f0b75fd-babc-4493-86d7-61a1d746d5b8",
   "metadata": {
    "tags": []
   },
   "outputs": [],
   "source": [
    "# Define columns that will keep the max value if the two rows being merged have different values for.\n",
    "columns_to_max = ['PatientSID', 'Obstruction', 'FEV1_Severity', 'FEV1_Abs_Pre', 'FEV1_Perc_Pred_Pre', 'FEV1_FVC_Pre', 'FEV1_Abs_Post', 'FEV1_Perc_Pred_Post', 'FEV1_FVC_Post']\n",
    "\n",
    "# This function ensures that we don't lose one of the snippets upon merge, but rather append them together\n",
    "def concatenate_strings(series):\n",
    "    return ''.join(series.unique())\n",
    "\n",
    "# Define aggregation function to keep the max value for columns that both have data across the rows\n",
    "agg_funcs = {col: 'max' for col in columns_to_max}\n",
    "\n",
    "# Create concatenated snippets for merged rows (instead of taking the \"max\" snippet value)\n",
    "agg_funcs['Snippet'] = concatenate_strings\n",
    "\n",
    "# Regenerate dataframe with collapsed rows for identical PFTs with multiple notes\n",
    "results = results.groupby(['PatientICN','pft_date'], sort = False).agg(agg_funcs).reset_index()"
   ]
  },
  {
   "cell_type": "markdown",
   "id": "40f0fdcf-75b4-4c20-be98-a5a35660bb01",
   "metadata": {},
   "source": [
    "## Step 11: Export data to Excel for validation/analysis"
   ]
  },
  {
   "cell_type": "code",
   "execution_count": 20,
   "id": "4271b0ce-f83d-4601-a569-74c9d2582b11",
   "metadata": {
    "tags": []
   },
   "outputs": [],
   "source": [
    "# Select columns to export\n",
    "columns_to_export = ['Snippet', 'PatientICN', 'PatientSID', 'pft_date', 'Obstruction', 'FEV1_Severity', 'FEV1_Abs_Pre', 'FEV1_Perc_Pred_Pre', 'FEV1_FVC_Pre', 'FEV1_Abs_Post', 'FEV1_Perc_Pred_Post', 'FEV1_FVC_Post']\n",
    "\n",
    "# Define desired output directory, file name, and file path\n",
    "output_dir = '[Insert Your Directory Here]/'\n",
    "file_name = '[Insert File Name Here].xlsx'\n",
    "full_path = output_dir + file_name\n",
    "to_export = results\n",
    "\n",
    "# Export data as .xlsx file\n",
    "to_export.to_excel(full_path, columns = columns_to_export, index = False)"
   ]
  }
 ],
 "metadata": {
  "kernelspec": {
   "display_name": "Python 3 (ipykernel)",
   "language": "python",
   "name": "python3"
  },
  "language_info": {
   "codemirror_mode": {
    "name": "ipython",
    "version": 3
   },
   "file_extension": ".py",
   "mimetype": "text/x-python",
   "name": "python",
   "nbconvert_exporter": "python",
   "pygments_lexer": "ipython3",
   "version": "3.11.4"
  }
 },
 "nbformat": 4,
 "nbformat_minor": 5
}
