{
 "cells": [
  {
   "cell_type": "markdown",
   "id": "28306164-6644-4e3c-b7ca-2461adefed28",
   "metadata": {},
   "source": [
    "## Step 1: Import Packages"
   ]
  },
  {
   "cell_type": "code",
   "execution_count": 1,
   "id": "df71830a-a259-4c0d-9f41-7ab848b27498",
   "metadata": {},
   "outputs": [],
   "source": [
    "import re\n",
    "import pandas as pd"
   ]
  },
  {
   "cell_type": "markdown",
   "id": "ae1e4d28-3e2f-442f-976c-6f53c32c99b6",
   "metadata": {},
   "source": [
    "## Step 2: Import Dataset and Perform Initial Preprocessing"
   ]
  },
  {
   "cell_type": "code",
   "execution_count": 2,
   "id": "cdbd0d31-0d27-4f93-a425-dc8748df3832",
   "metadata": {},
   "outputs": [],
   "source": [
    "# Import data from Excel to Pandas dataframe. Make sure to include PatientICN/Patientsid, PFT date, and ReportText columns\n",
    "df = pd.read_excel('[Insert Your Directory Here/[Insert File Name Here].xlsx')\n",
    "\n",
    "# Convert ReportText column to string and remove carriage returns and extra spaces between words\n",
    "df['ReportText'] = df['ReportText'].astype('str')\n",
    "df['ReportText'] = df['ReportText'].str.replace(r'\\s+', ' ',regex=True).replace(r'\\n+', ' ', regex=True)"
   ]
  },
  {
   "cell_type": "markdown",
   "id": "4d391a93-ede0-40a3-a5a0-a8548854235d",
   "metadata": {},
   "source": [
    "## Step 3: Create Snippet Extraction Function after identifying template snippets with the following code:\n",
    "```\n",
    "n = 1\n",
    "for index,row in df.sample(frac=1)[:100].iterrows():\n",
    "    print(f\"Row Number: {n}\")\n",
    "    print(f\"Note Content: {row['ReportText']}\")\n",
    "    print(f\"PFT Date: {row['pft_date']}\")\n",
    "    print('-'*100)\n",
    "    n+=1\n",
    "```"
   ]
  },
  {
   "cell_type": "code",
   "execution_count": 5,
   "id": "5c49c153-0ed9-46ce-8a71-4e2d9a82e2c8",
   "metadata": {},
   "outputs": [],
   "source": [
    "def extract_pft_context(text):\n",
    "    pattern = re.compile(r'Lab Data.{0,1000}', re.IGNORECASE)\n",
    "    matches = pattern.findall(text)\n",
    "    return ''.join(matches)"
   ]
  },
  {
   "cell_type": "markdown",
   "id": "dffe9563-b2c1-46e4-93ad-7467febb90f8",
   "metadata": {},
   "source": [
    "## Step 4: Generate `Snippet` column by applying above function to the `ReportText` column"
   ]
  },
  {
   "cell_type": "code",
   "execution_count": 6,
   "id": "d859dd2c-24d4-407a-8ec7-f239f43c4546",
   "metadata": {},
   "outputs": [],
   "source": [
    "# Create a copy of the df to avoid warnings and run the ReportText column through the function to create the Snippet column\n",
    "df['Snippet'] = df['ReportText'].apply(extract_pft_context)\n",
    "\n",
    "# Create new dataframe where all rows with no snippet are dropped\n",
    "notes_with_fev = df[df['Snippet'] != ''].reset_index(drop=True)"
   ]
  },
  {
   "cell_type": "markdown",
   "id": "7320c9c3-986f-4469-a01c-35edd498bf80",
   "metadata": {},
   "source": [
    "##### You can validate snippets with the following code:\n",
    "```\n",
    "n = 1\n",
    "for index,row in notes_with_fev.sample(frac=1)[:100].iterrows():\n",
    "    print(f\"Row Number: {n}\")\n",
    "    print(row['ReportText'])\n",
    "    print(row['pft_date'])\n",
    "    print('-'*100)\n",
    "    n+=1\n",
    "```"
   ]
  },
  {
   "cell_type": "markdown",
   "id": "9327448c-43bc-471b-96ea-132c2bbc1bdc",
   "metadata": {},
   "source": [
    "## Step 5: Initialize PFT Classification Function"
   ]
  },
  {
   "cell_type": "code",
   "execution_count": 9,
   "id": "55c0df59-fa31-47bb-a18f-da021d174ae0",
   "metadata": {},
   "outputs": [],
   "source": [
    "def classify_pft(text):\n",
    "    fev1_abs_pre = []\n",
    "    fev1_fvc = []\n",
    "    fev1_perc_pred_pre = []\n",
    "\n",
    "    \n",
    "    \n",
    "    # FEV1 abs pre\n",
    "    fev1_abs_pre_pattern = re.compile(r'LAB DATA.*?FEV1.*?(\\d*\\.\\d+)', re.IGNORECASE)\n",
    "    fev1_abs_pre_pattern_results = fev1_abs_pre_pattern.findall(text)\n",
    "    \n",
    "    if fev1_abs_pre_pattern_results:\n",
    "        fev1_abs_pre.append(fev1_abs_pre_pattern_results[0])\n",
    "        \n",
    "        \n",
    "    # FEV1 perc pred pre 1\n",
    "    fev1_perc_pred_pre_1_pattern = re.compile(r'Lab Data.*?FEV1.*?\\d*\\.\\d+.*?\\(?(\\d{2,3})%?\\)?', re.IGNORECASE)\n",
    "    fev1_perc_pred_pre_1_pattern_results = fev1_perc_pred_pre_1_pattern.findall(text)\n",
    "    \n",
    "    if fev1_perc_pred_pre_1_pattern_results:\n",
    "        fev1_perc_pred_pre.append(fev1_perc_pred_pre_1_pattern_results[0])\n",
    "            \n",
    "    # FEV1/FVC\n",
    "    fev1_fvc_pattern = re.compile(r'FEV1/FVC.*?(\\d{2,3})%?', re.IGNORECASE)\n",
    "    fev1_fvc_pattern_results = fev1_fvc_pattern.findall(text)\n",
    "    \n",
    "    if fev1_fvc_pattern_results:\n",
    "        fev1_fvc.append(fev1_fvc_pattern_results[0])\n",
    "        \n",
    "    return pd.Series({'FEV1_Abs_Pre': fev1_abs_pre if fev1_abs_pre else None,\n",
    "                     'FEV1_Perc_Pred_Pre': fev1_perc_pred_pre if fev1_perc_pred_pre else None,\n",
    "                     'FEV1_FVC_Pre': fev1_fvc if fev1_fvc else None\n",
    "                     })"
   ]
  },
  {
   "cell_type": "markdown",
   "id": "926c807e-068f-4de4-87f7-040ca6582155",
   "metadata": {},
   "source": [
    "## Step 6: Run dataframe through the PFT extraction function"
   ]
  },
  {
   "cell_type": "code",
   "execution_count": 10,
   "id": "38bcb34a-1bee-4bc7-a457-bac710078478",
   "metadata": {},
   "outputs": [],
   "source": [
    "results = notes_with_pft.join(notes_with_pft['Snippet'].apply(classify_pft))"
   ]
  },
  {
   "cell_type": "markdown",
   "id": "4b211f11-d3af-4aa3-8f1c-c37dff527317",
   "metadata": {},
   "source": [
    "### Fix date column"
   ]
  },
  {
   "cell_type": "code",
   "execution_count": 11,
   "id": "ed03756b-ab29-4afa-ab3f-f015ecea0dec",
   "metadata": {},
   "outputs": [],
   "source": [
    "results['pft_date'] = results['pft_date'].apply(lambda x: x.strftime('%Y-%m-%d'))"
   ]
  },
  {
   "cell_type": "markdown",
   "id": "645c86ba-c346-40df-b04e-5727c9d4c566",
   "metadata": {},
   "source": [
    "## Step 7: Extract values from FEV1 % predicted, FEV1:FVC pre-BD variables"
   ]
  },
  {
   "cell_type": "code",
   "execution_count": 12,
   "id": "529a7914-7c21-4df8-b636-336264a9997a",
   "metadata": {},
   "outputs": [],
   "source": [
    "def extract_perc_pred_value(nested_list):\n",
    "    if nested_list is not None:\n",
    "        return int(nested_list[0])\n",
    "    \n",
    "# Create new variable 'FEV1_Perc_Pred' to hold extracted quantitative value\n",
    "results['FEV1_Perc_Pred'] = results['FEV1_Perc_Pred_Pre'].apply(extract_perc_pred_value)\n",
    "\n",
    "def extract_fev1_fevc_value(nested_list):\n",
    "    if nested_list is not None:\n",
    "        return float(nested_list[0])\n",
    "\n",
    "results['fev1_fvc'] = results['FEV1_FVC_Pre'].apply(extract_fev1_fevc_value)"
   ]
  },
  {
   "cell_type": "code",
   "execution_count": 13,
   "id": "fb5e03fb-5e95-4678-8ab2-1cdb1861cd0b",
   "metadata": {},
   "outputs": [],
   "source": [
    "def fev1_severity(value):\n",
    "    if value >= 80:\n",
    "        return \"Normal\"\n",
    "    if 70 <= value <= 79:\n",
    "        return \"Mild\"\n",
    "    if 60 <= value <= 69:\n",
    "        return \"Moderate\"\n",
    "    if 50 <= value <= 59:\n",
    "        return \"Moderately Severe\"\n",
    "    if 35 <= value < 50:\n",
    "        return \"Severe\"\n",
    "    if value < 35:\n",
    "        return \"Very Severe\"\n",
    "\n",
    "def obstruction(value):\n",
    "    if value >= 70:\n",
    "        return \"Normal\"\n",
    "    if value < 70:\n",
    "        return \"Reduced\"\n",
    "    \n",
    "results['FEV1_Severity'] = results['FEV1_Perc_Pred'].map(fev1_severity)\n",
    "results['Obstruction'] = results['fev1_fvc'].map(obstruction)"
   ]
  },
  {
   "cell_type": "markdown",
   "id": "d3312ee1-b420-4f34-a41e-76d0d360a7c8",
   "metadata": {},
   "source": [
    "## Step 10: Drop duplicate rows and rows missing any extracted PFT data"
   ]
  },
  {
   "cell_type": "code",
   "execution_count": 14,
   "id": "b742d57b-59cc-4376-b007-b1b22116aedd",
   "metadata": {},
   "outputs": [
    {
     "name": "stdout",
     "output_type": "stream",
     "text": [
      "1409\n",
      "1323\n",
      "1309\n"
     ]
    }
   ],
   "source": [
    "# List columns to define on which variables to drop duplicates\n",
    "list_cols = ['Obstruction', 'FEV1_Severity', 'FEV1_Abs_Pre', 'FEV1_Perc_Pred_Pre', 'FEV1_FVC_Pre']\n",
    "\n",
    "# Drop rows that have no extracted PFT values\n",
    "results = results.dropna(subset = list_cols, how='all')\n",
    "\n",
    "# Convert data types of columns in list_cols to string\n",
    "for col in list_cols:\n",
    "    results[col] = results[col].apply(lambda x: str(x))\n",
    "    \n",
    "# Drop duplicates of PFT results based on columns of interest + PatientID and PFT date\n",
    "results = results.drop_duplicates(subset=['PatientICN', 'pft_date', 'Obstruction', 'FEV1_Severity', 'FEV1_Abs_Pre', 'FEV1_Perc_Pred_Pre', 'FEV1_FVC_Pre'])\n",
    "\n",
    "# Replace cells with 'None' values to empty string for ease of readability in the output Excel file\n",
    "results.replace('None','',inplace=True)"
   ]
  },
  {
   "cell_type": "markdown",
   "id": "3d68855b-dcf5-4ea6-a446-905fea21797e",
   "metadata": {},
   "source": [
    "## Step 11: Collapse notes from same PFT with multiple notes containing values for different variables"
   ]
  },
  {
   "cell_type": "code",
   "execution_count": 15,
   "id": "dd267451-c45d-4315-abc4-6ff1c9060a2d",
   "metadata": {},
   "outputs": [],
   "source": [
    "# Define columns that will keep the max value if the two rows being merged have different values for.\n",
    "columns_to_max = ['PatientSID', 'Obstruction', 'FEV1_Severity', 'FEV1_Abs_Pre', 'FEV1_Perc_Pred_Pre', 'FEV1_FVC_Pre']\n",
    "\n",
    "# This function ensures that we don't lose one of the snippets upon the merge butu rather append them together.\n",
    "def concatenate_strings(series):\n",
    "    return ''.join(series.unique())\n",
    "\n",
    "# Define aggregation function to keep the  max value for columns that have different data in both rows\n",
    "agg_funcs = {col: 'max' for col in columns_to_max}\n",
    "\n",
    "# Create concatenated snippets for merged rows (instead of taking the \"max\" snippet value)\n",
    "agg_funcs['Snippet'] = concatenate_strings\n",
    "\n",
    "# Regenerate dataframe with the collapsed rows for identical PFTs with multiple notes\n",
    "results = results.groupby(['PatientICN','pft_date'], sort = False).agg(agg_funcs).reset_index()"
   ]
  },
  {
   "cell_type": "markdown",
   "id": "ba23d2ed-5f16-46b4-9623-670eabf2b57a",
   "metadata": {},
   "source": [
    "## Step 12: Export dataframe to Excel"
   ]
  },
  {
   "cell_type": "code",
   "execution_count": 18,
   "id": "00d8f054-a9c3-4163-82a1-79a0e5f50504",
   "metadata": {},
   "outputs": [],
   "source": [
    "# Select columns to export\n",
    "columns_to_export = ['Snippet', 'PatientICN', 'PatientSID', 'pft_date', 'Obstruction', 'FEV1_Severity', 'FEV1_Abs_Pre', 'FEV1_Perc_Pred_Pre', 'FEV1_FVC_Pre']\n",
    "\n",
    "# Define desired output directory, file name, and file path\n",
    "output_dir = '[Insert Your Directory Here]/'\n",
    "file_name = '[Insert File Name Here].xlsx'\n",
    "full_path = output_dir + file_name\n",
    "\n",
    "# Export data as .xslx file\n",
    "results.to_excel(full_path, columns = columns_to_export, index=False)"
   ]
  }
 ],
 "metadata": {
  "kernelspec": {
   "display_name": "Python 3 (ipykernel)",
   "language": "python",
   "name": "python3"
  },
  "language_info": {
   "codemirror_mode": {
    "name": "ipython",
    "version": 3
   },
   "file_extension": ".py",
   "mimetype": "text/x-python",
   "name": "python",
   "nbconvert_exporter": "python",
   "pygments_lexer": "ipython3",
   "version": "3.9.13"
  }
 },
 "nbformat": 4,
 "nbformat_minor": 5
}
